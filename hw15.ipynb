{
  "nbformat": 4,
  "nbformat_minor": 0,
  "metadata": {
    "colab": {
      "provenance": [],
      "authorship_tag": "ABX9TyNs5Qt9QtahL7rngdFTNZyu",
      "include_colab_link": true
    },
    "kernelspec": {
      "name": "python3",
      "display_name": "Python 3"
    },
    "language_info": {
      "name": "python"
    }
  },
  "cells": [
    {
      "cell_type": "markdown",
      "metadata": {
        "id": "view-in-github",
        "colab_type": "text"
      },
      "source": [
        "<a href=\"https://colab.research.google.com/github/holera2008/hw15/blob/main/hw15.ipynb\" target=\"_parent\"><img src=\"https://colab.research.google.com/assets/colab-badge.svg\" alt=\"Open In Colab\"/></a>"
      ]
    },
    {
      "cell_type": "code",
      "execution_count": 1,
      "metadata": {
        "id": "GyhQsCbZquPL",
        "colab": {
          "base_uri": "https://localhost:8080/"
        },
        "outputId": "4058d8be-ee03-4864-a505-1f7c45963e72"
      },
      "outputs": [
        {
          "output_type": "stream",
          "name": "stdout",
          "text": [
            "73\n",
            "65\n",
            "19\n",
            "19\n",
            "86\n",
            "True\n"
          ]
        }
      ],
      "source": [
        "import random\n",
        "from random import randrange\n",
        "\n",
        "\n",
        "def get_numbers_ticket(min, max, quantity):\n",
        "    i = 1\n",
        "    while i <= quantity:\n",
        "        n = random.randrange(min, max)\n",
        "        print(n)\n",
        "        i += 1\n",
        "    return True\n",
        "\n",
        "if __name__ == '__main__':\n",
        "    print(get_numbers_ticket(1, 100, 5))"
      ]
    }
  ]
}