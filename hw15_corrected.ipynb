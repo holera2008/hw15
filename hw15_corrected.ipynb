{
  "nbformat": 4,
  "nbformat_minor": 0,
  "metadata": {
    "colab": {
      "provenance": [],
      "authorship_tag": "ABX9TyM8dRED3tJ70WUsFirvuMEr",
      "include_colab_link": true
    },
    "kernelspec": {
      "name": "python3",
      "display_name": "Python 3"
    },
    "language_info": {
      "name": "python"
    }
  },
  "cells": [
    {
      "cell_type": "markdown",
      "metadata": {
        "id": "view-in-github",
        "colab_type": "text"
      },
      "source": [
        "<a href=\"https://colab.research.google.com/github/holera2008/hw15/blob/main/hw15_corrected.ipynb\" target=\"_parent\"><img src=\"https://colab.research.google.com/assets/colab-badge.svg\" alt=\"Open In Colab\"/></a>"
      ]
    },
    {
      "cell_type": "code",
      "execution_count": 11,
      "metadata": {
        "colab": {
          "base_uri": "https://localhost:8080/"
        },
        "id": "rK2k7QRm8Opf",
        "outputId": "7bfd20e7-b84c-4020-e966-13059ec14467"
      },
      "outputs": [
        {
          "output_type": "stream",
          "name": "stdout",
          "text": [
            "{72, 10, 75, 86, 23}\n",
            "True\n"
          ]
        }
      ],
      "source": [
        "import random\n",
        "from random import randrange\n",
        "\n",
        "\n",
        "def get_numbers_ticket(min, max, quantity):\n",
        "    i = 1\n",
        "    numbers_ = set([])\n",
        "    while True:\n",
        "      while i <= quantity:\n",
        "        n = random.randrange(min, max)\n",
        "        numbers_.add(n)\n",
        "        i += 1\n",
        "      if len(numbers_) == quantity:\n",
        "        print(numbers_)\n",
        "        break\n",
        "    return True\n",
        "\n",
        "if __name__ == '__main__':\n",
        "    print(get_numbers_ticket(1, 100, 5))"
      ]
    }
  ]
}